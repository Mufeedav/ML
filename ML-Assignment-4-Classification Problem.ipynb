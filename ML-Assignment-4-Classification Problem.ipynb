{
 "cells": [
  {
   "cell_type": "code",
   "execution_count": 1,
   "id": "3d35d568-2acb-4e9b-acca-0d5c69a0a538",
   "metadata": {},
   "outputs": [],
   "source": [
    "import pandas as pd\n",
    "import numpy as np\n",
    "\n",
    "from sklearn.datasets import load_breast_cancer\n",
    "from sklearn.model_selection import train_test_split\n",
    "from sklearn.preprocessing import StandardScaler"
   ]
  },
  {
   "cell_type": "code",
   "execution_count": 3,
   "id": "91155feb-bc9e-484c-8b00-c1a239856239",
   "metadata": {},
   "outputs": [],
   "source": [
    "# 1. Loading and Preprocessing (2 marks) Load the breast cancer dataset from sklearn. Preprocess the data to handle any missing values and \n",
    "# perform necessary feature scaling. \n",
    "# Explain the preprocessing steps you performed and justify why they are necessary for this dataset.\n",
    "\n",
    "data=load_breast_cancer()\n",
    "X=pd.DataFrame(data.data,columns=data.feature_names)\n",
    "y=pd.Series(data.target,name='target')"
   ]
  },
  {
   "cell_type": "code",
   "execution_count": 7,
   "id": "b7adc103-84ee-474e-b6e1-8d7ad1cbcdd8",
   "metadata": {},
   "outputs": [
    {
     "data": {
      "text/plain": [
       "mean radius                0\n",
       "mean texture               0\n",
       "mean perimeter             0\n",
       "mean area                  0\n",
       "mean smoothness            0\n",
       "mean compactness           0\n",
       "mean concavity             0\n",
       "mean concave points        0\n",
       "mean symmetry              0\n",
       "mean fractal dimension     0\n",
       "radius error               0\n",
       "texture error              0\n",
       "perimeter error            0\n",
       "area error                 0\n",
       "smoothness error           0\n",
       "compactness error          0\n",
       "concavity error            0\n",
       "concave points error       0\n",
       "symmetry error             0\n",
       "fractal dimension error    0\n",
       "worst radius               0\n",
       "worst texture              0\n",
       "worst perimeter            0\n",
       "worst area                 0\n",
       "worst smoothness           0\n",
       "worst compactness          0\n",
       "worst concavity            0\n",
       "worst concave points       0\n",
       "worst symmetry             0\n",
       "worst fractal dimension    0\n",
       "dtype: int64"
      ]
     },
     "execution_count": 7,
     "metadata": {},
     "output_type": "execute_result"
    }
   ],
   "source": [
    "# missing values\n",
    "X.isnull().sum()"
   ]
  },
  {
   "cell_type": "code",
   "execution_count": 11,
   "id": "389d3393-a1de-47e9-8985-d3b1b7ac46a9",
   "metadata": {},
   "outputs": [],
   "source": [
    "#feature scaling\n",
    "scaler=StandardScaler()\n",
    "X_scaled=scaler.fit_transform(X)\n",
    "\n",
    "#split into train-test\n",
    "X_train, X_test, y_train, y_test=train_test_split(X_scaled,y,test_size=.2, random_state=42)"
   ]
  },
  {
   "cell_type": "markdown",
   "id": "fdf2f218-9d50-41fc-8fed-ced035e0574b",
   "metadata": {},
   "source": [
    "## Preprocessing Explanation:\n",
    "\n",
    "Missing Values: The breast cancer dataset from sklearn has no missing values, but checking is a good habit.\n",
    "\n",
    "Feature Scaling (StandardScaler): Algorithms like SVM and k-NN are distance-based and sensitive to feature scales. Therefore, standardization ensures that each feature contributes equally."
   ]
  },
  {
   "cell_type": "code",
   "execution_count": 18,
   "id": "46991c70-a789-49f1-91ae-26a0d8b878ca",
   "metadata": {},
   "outputs": [],
   "source": [
    "# 2. Classification Algorithm Implementation (5 marks) Implement the following five classification algorithms:\n",
    "\n",
    "# 1. Logistic Regression 2. Decision Tree Classifier 3. Random Forest Classifier 4. Support Vector Machine (SVM) 5. k-Nearest Neighbors (k-NN) \n",
    "\n",
    "#For each algorithm, provide a brief description of how it works and why it might be suitable for this dataset.\n",
    "\n",
    "\n",
    "from sklearn.linear_model import LogisticRegression\n",
    "from sklearn.tree import DecisionTreeClassifier\n",
    "from sklearn.ensemble import RandomForestClassifier\n",
    "from sklearn.svm import SVC\n",
    "from sklearn.neighbors import KNeighborsClassifier\n",
    "from sklearn.metrics import accuracy_score"
   ]
  },
  {
   "cell_type": "code",
   "execution_count": 20,
   "id": "243a8f3f-eeb4-460c-adc3-2c19b3c53fda",
   "metadata": {},
   "outputs": [
    {
     "name": "stdout",
     "output_type": "stream",
     "text": [
      "Logistic Regression Accuracy: 0.9737\n",
      "Decision Tree Accuracy: 0.9474\n",
      "Random Forest Accuracy: 0.9649\n",
      "SVM Accuracy: 0.9737\n",
      "k-NN Accuracy: 0.9474\n"
     ]
    }
   ],
   "source": [
    "models = {\n",
    "    \"Logistic Regression\": LogisticRegression(max_iter=10000),\n",
    "    \"Decision Tree\": DecisionTreeClassifier(random_state=42),\n",
    "    \"Random Forest\": RandomForestClassifier(random_state=42),\n",
    "    \"SVM\": SVC(),\n",
    "    \"k-NN\": KNeighborsClassifier()\n",
    "}\n",
    "\n",
    "# Train and test models\n",
    "results = {}\n",
    "for name, model in models.items():\n",
    "    model.fit(X_train, y_train)\n",
    "    y_pred = model.predict(X_test)\n",
    "    acc = accuracy_score(y_test, y_pred)\n",
    "    results[name] = acc\n",
    "    print(f\"{name} Accuracy: {acc:.4f}\")"
   ]
  },
  {
   "cell_type": "markdown",
   "id": "f01eb16c-c0f6-419b-80b8-3593b8987848",
   "metadata": {},
   "source": [
    " ## Algorithm Explanations:\n",
    "\n",
    "* Logistic Regression:\n",
    "\n",
    "A linear model for classification. It estimates probabilities using a sigmoid function.\n",
    "\n",
    "Suitable because the dataset is well-labeled and logistic regression performs well with linearly separable data.\n",
    "\n",
    "* Decision Tree Classifier:\n",
    "\n",
    "A tree structure where internal nodes represent features, branches represent decision rules, and leaves represent outcomes.\n",
    "\n",
    "Good for datasets with non-linear relationships and provides interpretability.\n",
    "\n",
    "* Random Forest Classifier:\n",
    "\n",
    "An ensemble of decision trees; it reduces overfitting by averaging multiple trees.\n",
    "\n",
    "Performs better on noisy data and usually provides higher accuracy.\n",
    "\n",
    "* Support Vector Machine (SVM):\n",
    "\n",
    "Finds the hyperplane that best separates the classes.\n",
    "\n",
    "Effective in high-dimensional spaces and when the number of features is larger than the number of samples.\n",
    "\n",
    "* k-Nearest Neighbors (k-NN):\n",
    "\n",
    "A lazy learner that classifies based on the majority class among its k nearest neighbors.\n",
    "\n",
    "Simple and effective on small datasets but sensitive to the feature scale and large datasets.\n",
    "\n"
   ]
  },
  {
   "cell_type": "code",
   "execution_count": 32,
   "id": "89a0728c-7e9c-42cf-a605-3ac76d1d4a72",
   "metadata": {},
   "outputs": [
    {
     "data": {
      "image/png": "[encoded data removed]",
      "text/plain": [
       "<Figure size 640x480 with 1 Axes>"
      ]
     },
     "metadata": {},
     "output_type": "display_data"
    },
    {
     "name": "stdout",
     "output_type": "stream",
     "text": [
      "\n",
      "✅ Best Performing Models: Logistic Regression, SVM with Accuracy: 0.9737\n",
      "❌ Worst Performing Models: Decision Tree, k-NN with Accuracy: 0.9474\n"
     ]
    }
   ],
   "source": [
    "# 3. Model Comparison: Compare the performance of the five classification algorithms. \n",
    "# Which algorithm performed the best and which one performed the worst?\n",
    "\n",
    "import matplotlib.pyplot as plt\n",
    "\n",
    "# Plot\n",
    "plt.bar(results.keys(), results.values(), color='skyblue')\n",
    "plt.ylabel('Accuracy')\n",
    "plt.ylim(0.9, 1)\n",
    "plt.title('Model Comparison')\n",
    "plt.xticks(rotation=90)\n",
    "plt.show()\n",
    "\n",
    "# Best and worst\n",
    "\n",
    "# Find max and min accuracy\n",
    "max_acc = max(results.values())\n",
    "min_acc = min(results.values())\n",
    "\n",
    "# List all best models\n",
    "best_models = [model for model, acc in results.items() if acc == max_acc]\n",
    "\n",
    "# List all worst models\n",
    "worst_models = [model for model, acc in results.items() if acc == min_acc]\n",
    "\n",
    "# Print results\n",
    "print(f\"\\n Best Performing Models: {', '.join(best_models)} with Accuracy: {max_acc:.4f}\")\n",
    "print(f\" Worst Performing Models: {', '.join(worst_models)} with Accuracy: {min_acc:.4f}\")"
   ]
  },
  {
   "cell_type": "markdown",
   "id": "b2dbf33d-0792-4a50-b763-925bd10cbe06",
   "metadata": {},
   "source": [
    " ## Conclusion:\n",
    "In this classification task using the Breast Cancer dataset, five different supervised learning algorithms were implemented and evaluated: Logistic Regression, Decision Tree, Random Forest, Support Vector Machine (SVM), and k-Nearest Neighbors (k-NN). After training and testing, both Logistic Regression and SVM emerged as the best-performing models, each achieving an accuracy of  0.9737. This indicates that linear models and margin-based classifiers are well-suited for this dataset, which is relatively clean and likely linearly separable.\n",
    "\n",
    "On the other hand, the Decision Tree and KNN model showed the lowest performance with an accuracy of 0.9474. This suggests that while tree-based models are flexible, they may overfit or underperform without fine-tuning on this particular dataset.\n",
    "\n"
   ]
  },
  {
   "cell_type": "code",
   "execution_count": null,
   "id": "949f09e0-b482-43a0-ba9f-41c5e24866d8",
   "metadata": {},
   "outputs": [],
   "source": []
  }
 ],
 "metadata": {
  "kernelspec": {
   "display_name": "Python [conda env:base] *",
   "language": "python",
   "name": "conda-base-py"
  },
  "language_info": {
   "codemirror_mode": {
    "name": "ipython",
    "version": 3
   },
   "file_extension": ".py",
   "mimetype": "text/x-python",
   "name": "python",
   "nbconvert_exporter": "python",
   "pygments_lexer": "ipython3",
   "version": "3.12.7"
  }
 },
 "nbformat": 4,
 "nbformat_minor": 5
}
